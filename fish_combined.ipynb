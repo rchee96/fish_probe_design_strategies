{
 "cells": [
  {
   "cell_type": "code",
   "execution_count": 1,
   "metadata": {
    "collapsed": false
   },
   "outputs": [
   ],
   "source": [
    "import pandas as pd\n",
    "import matplotlib.pyplot as plt\n",
    "import seaborn as sns"
   ]
  },
  {
   "cell_type": "code",
   "execution_count": 2,
   "metadata": {
    "collapsed": false
   },
   "outputs": [
    {
     "data": {
      "text/html": [
       "<div>\n",
       "<style scoped>\n",
       "    .dataframe tbody tr th:only-of-type {\n",
       "        vertical-align: middle;\n",
       "    }\n",
       "\n",
       "    .dataframe tbody tr th {\n",
       "        vertical-align: top;\n",
       "    }\n",
       "\n",
       "    .dataframe thead th {\n",
       "        text-align: right;\n",
       "    }\n",
       "</style>\n",
       "<table border=\"1\" class=\"dataframe\">\n",
       "  <thead>\n",
       "    <tr style=\"text-align: right;\">\n",
       "      <th></th>\n",
       "      <th>intensity</th>\n",
       "      <th>fwhm</th>\n",
       "      <th>file</th>\n",
       "      <th>cells_volume</th>\n",
       "      <th>Source</th>\n",
       "      <th>Formamide</th>\n",
       "    </tr>\n",
       "  </thead>\n",
       "  <tbody>\n",
       "    <tr>\n",
       "      <th>0</th>\n",
       "      <td>3417.927808</td>\n",
       "      <td>3.401407</td>\n",
       "      <td>data/20220908_K562_EVI1-GFP_ctrl_CTRL_Altius_P...</td>\n",
       "      <td>10444000</td>\n",
       "      <td>PaintShop central+offset</td>\n",
       "      <td>1h FA</td>\n",
       "    </tr>\n",
       "    <tr>\n",
       "      <th>1</th>\n",
       "      <td>2365.101010</td>\n",
       "      <td>3.401407</td>\n",
       "      <td>data/20220908_K562_EVI1-GFP_ctrl_CTRL_Altius_P...</td>\n",
       "      <td>10444000</td>\n",
       "      <td>PaintShop central+offset</td>\n",
       "      <td>1h FA</td>\n",
       "    </tr>\n",
       "    <tr>\n",
       "      <th>2</th>\n",
       "      <td>1082.781661</td>\n",
       "      <td>3.401407</td>\n",
       "      <td>data/20220908_K562_EVI1-GFP_ctrl_CTRL_Altius_P...</td>\n",
       "      <td>10444000</td>\n",
       "      <td>PaintShop central+offset</td>\n",
       "      <td>1h FA</td>\n",
       "    </tr>\n",
       "    <tr>\n",
       "      <th>3</th>\n",
       "      <td>691.978721</td>\n",
       "      <td>3.401407</td>\n",
       "      <td>data/20220908_K562_EVI1-GFP_ctrl_CTRL_Altius_P...</td>\n",
       "      <td>10444000</td>\n",
       "      <td>PaintShop central+offset</td>\n",
       "      <td>1h FA</td>\n",
       "    </tr>\n",
       "    <tr>\n",
       "      <th>4</th>\n",
       "      <td>394.539332</td>\n",
       "      <td>3.401407</td>\n",
       "      <td>data/20220908_K562_EVI1-GFP_ctrl_CTRL_Altius_P...</td>\n",
       "      <td>10444000</td>\n",
       "      <td>PaintShop central+offset</td>\n",
       "      <td>1h FA</td>\n",
       "    </tr>\n",
       "    <tr>\n",
       "      <th>...</th>\n",
       "      <td>...</td>\n",
       "      <td>...</td>\n",
       "      <td>...</td>\n",
       "      <td>...</td>\n",
       "      <td>...</td>\n",
       "      <td>...</td>\n",
       "    </tr>\n",
       "    <tr>\n",
       "      <th>1980</th>\n",
       "      <td>164.303846</td>\n",
       "      <td>2.354820</td>\n",
       "      <td>data/20220908_K562_EVI1-GFP_ctrl_CTRL_Altius_P...</td>\n",
       "      <td>12399758</td>\n",
       "      <td>Negative Control</td>\n",
       "      <td>1h FA</td>\n",
       "    </tr>\n",
       "    <tr>\n",
       "      <th>1981</th>\n",
       "      <td>166.057877</td>\n",
       "      <td>3.401407</td>\n",
       "      <td>data/20220908_K562_EVI1-GFP_ctrl_CTRL_Altius_P...</td>\n",
       "      <td>12399758</td>\n",
       "      <td>Negative Control</td>\n",
       "      <td>1h FA</td>\n",
       "    </tr>\n",
       "    <tr>\n",
       "      <th>1982</th>\n",
       "      <td>178.332738</td>\n",
       "      <td>2.354820</td>\n",
       "      <td>data/20220908_K562_EVI1-GFP_ctrl_CTRL_Altius_P...</td>\n",
       "      <td>12399758</td>\n",
       "      <td>Negative Control</td>\n",
       "      <td>1h FA</td>\n",
       "    </tr>\n",
       "    <tr>\n",
       "      <th>1983</th>\n",
       "      <td>116.081486</td>\n",
       "      <td>5.494580</td>\n",
       "      <td>data/20220908_K562_EVI1-GFP_ctrl_CTRL_Altius_P...</td>\n",
       "      <td>12399758</td>\n",
       "      <td>Negative Control</td>\n",
       "      <td>1h FA</td>\n",
       "    </tr>\n",
       "    <tr>\n",
       "      <th>1984</th>\n",
       "      <td>172.946221</td>\n",
       "      <td>5.494580</td>\n",
       "      <td>data/20220908_K562_EVI1-GFP_ctrl_CTRL_Altius_P...</td>\n",
       "      <td>12399758</td>\n",
       "      <td>Negative Control</td>\n",
       "      <td>1h FA</td>\n",
       "    </tr>\n",
       "  </tbody>\n",
       "</table>\n",
       "<p>1985 rows × 6 columns</p>\n",
       "</div>"
      ],
      "text/plain": [
       "        intensity      fwhm  \\\n",
       "0     3417.927808  3.401407   \n",
       "1     2365.101010  3.401407   \n",
       "2     1082.781661  3.401407   \n",
       "3      691.978721  3.401407   \n",
       "4      394.539332  3.401407   \n",
       "...           ...       ...   \n",
       "1980   164.303846  2.354820   \n",
       "1981   166.057877  3.401407   \n",
       "1982   178.332738  2.354820   \n",
       "1983   116.081486  5.494580   \n",
       "1984   172.946221  5.494580   \n",
       "\n",
       "                                                   file  cells_volume  \\\n",
       "0     data/20220908_K562_EVI1-GFP_ctrl_CTRL_Altius_P...      10444000   \n",
       "1     data/20220908_K562_EVI1-GFP_ctrl_CTRL_Altius_P...      10444000   \n",
       "2     data/20220908_K562_EVI1-GFP_ctrl_CTRL_Altius_P...      10444000   \n",
       "3     data/20220908_K562_EVI1-GFP_ctrl_CTRL_Altius_P...      10444000   \n",
       "4     data/20220908_K562_EVI1-GFP_ctrl_CTRL_Altius_P...      10444000   \n",
       "...                                                 ...           ...   \n",
       "1980  data/20220908_K562_EVI1-GFP_ctrl_CTRL_Altius_P...      12399758   \n",
       "1981  data/20220908_K562_EVI1-GFP_ctrl_CTRL_Altius_P...      12399758   \n",
       "1982  data/20220908_K562_EVI1-GFP_ctrl_CTRL_Altius_P...      12399758   \n",
       "1983  data/20220908_K562_EVI1-GFP_ctrl_CTRL_Altius_P...      12399758   \n",
       "1984  data/20220908_K562_EVI1-GFP_ctrl_CTRL_Altius_P...      12399758   \n",
       "\n",
       "                        Source Formamide  \n",
       "0     PaintShop central+offset     1h FA  \n",
       "1     PaintShop central+offset     1h FA  \n",
       "2     PaintShop central+offset     1h FA  \n",
       "3     PaintShop central+offset     1h FA  \n",
       "4     PaintShop central+offset     1h FA  \n",
       "...                        ...       ...  \n",
       "1980          Negative Control     1h FA  \n",
       "1981          Negative Control     1h FA  \n",
       "1982          Negative Control     1h FA  \n",
       "1983          Negative Control     1h FA  \n",
       "1984          Negative Control     1h FA  \n",
       "\n",
       "[1985 rows x 6 columns]"
      ]
     },
     "execution_count": 2,
     "metadata": {
     },
     "output_type": "execute_result"
    }
   ],
   "source": [
    "df_old = pd.read_csv ('combined_df_old.csv')\n",
    "df_old"
   ]
  },
  {
   "cell_type": "code",
   "execution_count": 3,
   "metadata": {
    "collapsed": false
   },
   "outputs": [
    {
     "data": {
      "text/html": [
       "<div>\n",
       "<style scoped>\n",
       "    .dataframe tbody tr th:only-of-type {\n",
       "        vertical-align: middle;\n",
       "    }\n",
       "\n",
       "    .dataframe tbody tr th {\n",
       "        vertical-align: top;\n",
       "    }\n",
       "\n",
       "    .dataframe thead th {\n",
       "        text-align: right;\n",
       "    }\n",
       "</style>\n",
       "<table border=\"1\" class=\"dataframe\">\n",
       "  <thead>\n",
       "    <tr style=\"text-align: right;\">\n",
       "      <th></th>\n",
       "      <th>intensity</th>\n",
       "      <th>fwhm</th>\n",
       "      <th>file</th>\n",
       "      <th>cells_volume</th>\n",
       "      <th>Source</th>\n",
       "      <th>Formamide</th>\n",
       "    </tr>\n",
       "  </thead>\n",
       "  <tbody>\n",
       "    <tr>\n",
       "      <th>0</th>\n",
       "      <td>665.762596</td>\n",
       "      <td>2.354820</td>\n",
       "      <td>data/20221019_K562_EVI1-GFP_ctrl_Altius_PaintS...</td>\n",
       "      <td>2400618</td>\n",
       "      <td>Altius</td>\n",
       "      <td>overnight FA</td>\n",
       "    </tr>\n",
       "    <tr>\n",
       "      <th>1</th>\n",
       "      <td>503.605274</td>\n",
       "      <td>3.401407</td>\n",
       "      <td>data/20221019_K562_EVI1-GFP_ctrl_Altius_PaintS...</td>\n",
       "      <td>2400618</td>\n",
       "      <td>Altius</td>\n",
       "      <td>overnight FA</td>\n",
       "    </tr>\n",
       "    <tr>\n",
       "      <th>2</th>\n",
       "      <td>212.488219</td>\n",
       "      <td>4.447993</td>\n",
       "      <td>data/20221019_K562_EVI1-GFP_ctrl_Altius_PaintS...</td>\n",
       "      <td>2400618</td>\n",
       "      <td>Altius</td>\n",
       "      <td>overnight FA</td>\n",
       "    </tr>\n",
       "    <tr>\n",
       "      <th>3</th>\n",
       "      <td>180.442291</td>\n",
       "      <td>2.354820</td>\n",
       "      <td>data/20221019_K562_EVI1-GFP_ctrl_Altius_PaintS...</td>\n",
       "      <td>2400618</td>\n",
       "      <td>Altius</td>\n",
       "      <td>overnight FA</td>\n",
       "    </tr>\n",
       "    <tr>\n",
       "      <th>4</th>\n",
       "      <td>148.446320</td>\n",
       "      <td>2.354820</td>\n",
       "      <td>data/20221019_K562_EVI1-GFP_ctrl_Altius_PaintS...</td>\n",
       "      <td>2400618</td>\n",
       "      <td>Altius</td>\n",
       "      <td>overnight FA</td>\n",
       "    </tr>\n",
       "    <tr>\n",
       "      <th>...</th>\n",
       "      <td>...</td>\n",
       "      <td>...</td>\n",
       "      <td>...</td>\n",
       "      <td>...</td>\n",
       "      <td>...</td>\n",
       "      <td>...</td>\n",
       "    </tr>\n",
       "    <tr>\n",
       "      <th>227</th>\n",
       "      <td>94.076056</td>\n",
       "      <td>2.354820</td>\n",
       "      <td>data/20221019_K562_EVI1-GFP_ctrl_Altius_PaintS...</td>\n",
       "      <td>5826249</td>\n",
       "      <td>PaintShop central+offset</td>\n",
       "      <td>1h FA</td>\n",
       "    </tr>\n",
       "    <tr>\n",
       "      <th>228</th>\n",
       "      <td>106.664368</td>\n",
       "      <td>2.354820</td>\n",
       "      <td>data/20221019_K562_EVI1-GFP_ctrl_Altius_PaintS...</td>\n",
       "      <td>5826249</td>\n",
       "      <td>PaintShop central+offset</td>\n",
       "      <td>1h FA</td>\n",
       "    </tr>\n",
       "    <tr>\n",
       "      <th>229</th>\n",
       "      <td>70.306801</td>\n",
       "      <td>2.354820</td>\n",
       "      <td>data/20221019_K562_EVI1-GFP_ctrl_Altius_PaintS...</td>\n",
       "      <td>5826249</td>\n",
       "      <td>PaintShop central+offset</td>\n",
       "      <td>1h FA</td>\n",
       "    </tr>\n",
       "    <tr>\n",
       "      <th>230</th>\n",
       "      <td>88.571217</td>\n",
       "      <td>2.354820</td>\n",
       "      <td>data/20221019_K562_EVI1-GFP_ctrl_Altius_PaintS...</td>\n",
       "      <td>5826249</td>\n",
       "      <td>PaintShop central+offset</td>\n",
       "      <td>1h FA</td>\n",
       "    </tr>\n",
       "    <tr>\n",
       "      <th>231</th>\n",
       "      <td>92.454907</td>\n",
       "      <td>2.354820</td>\n",
       "      <td>data/20221019_K562_EVI1-GFP_ctrl_Altius_PaintS...</td>\n",
       "      <td>5826249</td>\n",
       "      <td>PaintShop central+offset</td>\n",
       "      <td>1h FA</td>\n",
       "    </tr>\n",
       "  </tbody>\n",
       "</table>\n",
       "<p>232 rows × 6 columns</p>\n",
       "</div>"
      ],
      "text/plain": [
       "      intensity      fwhm                                               file  \\\n",
       "0    665.762596  2.354820  data/20221019_K562_EVI1-GFP_ctrl_Altius_PaintS...   \n",
       "1    503.605274  3.401407  data/20221019_K562_EVI1-GFP_ctrl_Altius_PaintS...   \n",
       "2    212.488219  4.447993  data/20221019_K562_EVI1-GFP_ctrl_Altius_PaintS...   \n",
       "3    180.442291  2.354820  data/20221019_K562_EVI1-GFP_ctrl_Altius_PaintS...   \n",
       "4    148.446320  2.354820  data/20221019_K562_EVI1-GFP_ctrl_Altius_PaintS...   \n",
       "..          ...       ...                                                ...   \n",
       "227   94.076056  2.354820  data/20221019_K562_EVI1-GFP_ctrl_Altius_PaintS...   \n",
       "228  106.664368  2.354820  data/20221019_K562_EVI1-GFP_ctrl_Altius_PaintS...   \n",
       "229   70.306801  2.354820  data/20221019_K562_EVI1-GFP_ctrl_Altius_PaintS...   \n",
       "230   88.571217  2.354820  data/20221019_K562_EVI1-GFP_ctrl_Altius_PaintS...   \n",
       "231   92.454907  2.354820  data/20221019_K562_EVI1-GFP_ctrl_Altius_PaintS...   \n",
       "\n",
       "     cells_volume                    Source     Formamide  \n",
       "0         2400618                    Altius  overnight FA  \n",
       "1         2400618                    Altius  overnight FA  \n",
       "2         2400618                    Altius  overnight FA  \n",
       "3         2400618                    Altius  overnight FA  \n",
       "4         2400618                    Altius  overnight FA  \n",
       "..            ...                       ...           ...  \n",
       "227       5826249  PaintShop central+offset         1h FA  \n",
       "228       5826249  PaintShop central+offset         1h FA  \n",
       "229       5826249  PaintShop central+offset         1h FA  \n",
       "230       5826249  PaintShop central+offset         1h FA  \n",
       "231       5826249  PaintShop central+offset         1h FA  \n",
       "\n",
       "[232 rows x 6 columns]"
      ]
     },
     "execution_count": 3,
     "metadata": {
     },
     "output_type": "execute_result"
    }
   ],
   "source": [
    "df_new = pd.read_csv ('combined_df_new.csv')\n",
    "df_new"
   ]
  },
  {
   "cell_type": "code",
   "execution_count": 4,
   "metadata": {
    "collapsed": false
   },
   "outputs": [
    {
     "data": {
      "text/html": [
       "<div>\n",
       "<style scoped>\n",
       "    .dataframe tbody tr th:only-of-type {\n",
       "        vertical-align: middle;\n",
       "    }\n",
       "\n",
       "    .dataframe tbody tr th {\n",
       "        vertical-align: top;\n",
       "    }\n",
       "\n",
       "    .dataframe thead th {\n",
       "        text-align: right;\n",
       "    }\n",
       "</style>\n",
       "<table border=\"1\" class=\"dataframe\">\n",
       "  <thead>\n",
       "    <tr style=\"text-align: right;\">\n",
       "      <th></th>\n",
       "      <th>intensity</th>\n",
       "      <th>fwhm</th>\n",
       "      <th>file</th>\n",
       "      <th>cells_volume</th>\n",
       "      <th>Source</th>\n",
       "      <th>Formamide</th>\n",
       "    </tr>\n",
       "  </thead>\n",
       "  <tbody>\n",
       "    <tr>\n",
       "      <th>0</th>\n",
       "      <td>3417.927808</td>\n",
       "      <td>3.401407</td>\n",
       "      <td>data/20220908_K562_EVI1-GFP_ctrl_CTRL_Altius_P...</td>\n",
       "      <td>10444000</td>\n",
       "      <td>PaintShop central+offset</td>\n",
       "      <td>1h FA</td>\n",
       "    </tr>\n",
       "    <tr>\n",
       "      <th>1</th>\n",
       "      <td>2365.101010</td>\n",
       "      <td>3.401407</td>\n",
       "      <td>data/20220908_K562_EVI1-GFP_ctrl_CTRL_Altius_P...</td>\n",
       "      <td>10444000</td>\n",
       "      <td>PaintShop central+offset</td>\n",
       "      <td>1h FA</td>\n",
       "    </tr>\n",
       "    <tr>\n",
       "      <th>2</th>\n",
       "      <td>1082.781661</td>\n",
       "      <td>3.401407</td>\n",
       "      <td>data/20220908_K562_EVI1-GFP_ctrl_CTRL_Altius_P...</td>\n",
       "      <td>10444000</td>\n",
       "      <td>PaintShop central+offset</td>\n",
       "      <td>1h FA</td>\n",
       "    </tr>\n",
       "    <tr>\n",
       "      <th>3</th>\n",
       "      <td>691.978721</td>\n",
       "      <td>3.401407</td>\n",
       "      <td>data/20220908_K562_EVI1-GFP_ctrl_CTRL_Altius_P...</td>\n",
       "      <td>10444000</td>\n",
       "      <td>PaintShop central+offset</td>\n",
       "      <td>1h FA</td>\n",
       "    </tr>\n",
       "    <tr>\n",
       "      <th>4</th>\n",
       "      <td>394.539332</td>\n",
       "      <td>3.401407</td>\n",
       "      <td>data/20220908_K562_EVI1-GFP_ctrl_CTRL_Altius_P...</td>\n",
       "      <td>10444000</td>\n",
       "      <td>PaintShop central+offset</td>\n",
       "      <td>1h FA</td>\n",
       "    </tr>\n",
       "    <tr>\n",
       "      <th>...</th>\n",
       "      <td>...</td>\n",
       "      <td>...</td>\n",
       "      <td>...</td>\n",
       "      <td>...</td>\n",
       "      <td>...</td>\n",
       "      <td>...</td>\n",
       "    </tr>\n",
       "    <tr>\n",
       "      <th>533</th>\n",
       "      <td>171.115719</td>\n",
       "      <td>4.447993</td>\n",
       "      <td>data/20220908_K562_EVI1-GFP_ctrl_CTRL_Altius_P...</td>\n",
       "      <td>13535154</td>\n",
       "      <td>Altius</td>\n",
       "      <td>1h FA</td>\n",
       "    </tr>\n",
       "    <tr>\n",
       "      <th>534</th>\n",
       "      <td>142.806606</td>\n",
       "      <td>2.354820</td>\n",
       "      <td>data/20220908_K562_EVI1-GFP_ctrl_CTRL_Altius_P...</td>\n",
       "      <td>13535154</td>\n",
       "      <td>Altius</td>\n",
       "      <td>1h FA</td>\n",
       "    </tr>\n",
       "    <tr>\n",
       "      <th>535</th>\n",
       "      <td>155.374270</td>\n",
       "      <td>2.354820</td>\n",
       "      <td>data/20220908_K562_EVI1-GFP_ctrl_CTRL_Altius_P...</td>\n",
       "      <td>13535154</td>\n",
       "      <td>Altius</td>\n",
       "      <td>1h FA</td>\n",
       "    </tr>\n",
       "    <tr>\n",
       "      <th>536</th>\n",
       "      <td>166.978721</td>\n",
       "      <td>2.354820</td>\n",
       "      <td>data/20220908_K562_EVI1-GFP_ctrl_CTRL_Altius_P...</td>\n",
       "      <td>13535154</td>\n",
       "      <td>Altius</td>\n",
       "      <td>1h FA</td>\n",
       "    </tr>\n",
       "    <tr>\n",
       "      <th>537</th>\n",
       "      <td>108.903175</td>\n",
       "      <td>6.541167</td>\n",
       "      <td>data/20220908_K562_EVI1-GFP_ctrl_CTRL_Altius_P...</td>\n",
       "      <td>13535154</td>\n",
       "      <td>Altius</td>\n",
       "      <td>1h FA</td>\n",
       "    </tr>\n",
       "  </tbody>\n",
       "</table>\n",
       "<p>538 rows × 6 columns</p>\n",
       "</div>"
      ],
      "text/plain": [
       "       intensity      fwhm                                               file  \\\n",
       "0    3417.927808  3.401407  data/20220908_K562_EVI1-GFP_ctrl_CTRL_Altius_P...   \n",
       "1    2365.101010  3.401407  data/20220908_K562_EVI1-GFP_ctrl_CTRL_Altius_P...   \n",
       "2    1082.781661  3.401407  data/20220908_K562_EVI1-GFP_ctrl_CTRL_Altius_P...   \n",
       "3     691.978721  3.401407  data/20220908_K562_EVI1-GFP_ctrl_CTRL_Altius_P...   \n",
       "4     394.539332  3.401407  data/20220908_K562_EVI1-GFP_ctrl_CTRL_Altius_P...   \n",
       "..           ...       ...                                                ...   \n",
       "533   171.115719  4.447993  data/20220908_K562_EVI1-GFP_ctrl_CTRL_Altius_P...   \n",
       "534   142.806606  2.354820  data/20220908_K562_EVI1-GFP_ctrl_CTRL_Altius_P...   \n",
       "535   155.374270  2.354820  data/20220908_K562_EVI1-GFP_ctrl_CTRL_Altius_P...   \n",
       "536   166.978721  2.354820  data/20220908_K562_EVI1-GFP_ctrl_CTRL_Altius_P...   \n",
       "537   108.903175  6.541167  data/20220908_K562_EVI1-GFP_ctrl_CTRL_Altius_P...   \n",
       "\n",
       "     cells_volume                    Source Formamide  \n",
       "0        10444000  PaintShop central+offset     1h FA  \n",
       "1        10444000  PaintShop central+offset     1h FA  \n",
       "2        10444000  PaintShop central+offset     1h FA  \n",
       "3        10444000  PaintShop central+offset     1h FA  \n",
       "4        10444000  PaintShop central+offset     1h FA  \n",
       "..            ...                       ...       ...  \n",
       "533      13535154                    Altius     1h FA  \n",
       "534      13535154                    Altius     1h FA  \n",
       "535      13535154                    Altius     1h FA  \n",
       "536      13535154                    Altius     1h FA  \n",
       "537      13535154                    Altius     1h FA  \n",
       "\n",
       "[538 rows x 6 columns]"
      ]
     },
     "execution_count": 4,
     "metadata": {
     },
     "output_type": "execute_result"
    }
   ],
   "source": [
    "df_old_1 = df_old[~df_old['Source'].isin(['Negative Control'])] #isin take an array\n",
    "df_old_1"
   ]
  },
  {
   "cell_type": "code",
   "execution_count": 5,
   "metadata": {
    "collapsed": false
   },
   "outputs": [
    {
     "data": {
      "text/html": [
       "<div>\n",
       "<style scoped>\n",
       "    .dataframe tbody tr th:only-of-type {\n",
       "        vertical-align: middle;\n",
       "    }\n",
       "\n",
       "    .dataframe tbody tr th {\n",
       "        vertical-align: top;\n",
       "    }\n",
       "\n",
       "    .dataframe thead th {\n",
       "        text-align: right;\n",
       "    }\n",
       "</style>\n",
       "<table border=\"1\" class=\"dataframe\">\n",
       "  <thead>\n",
       "    <tr style=\"text-align: right;\">\n",
       "      <th></th>\n",
       "      <th>intensity</th>\n",
       "      <th>fwhm</th>\n",
       "      <th>file</th>\n",
       "      <th>cells_volume</th>\n",
       "      <th>Source</th>\n",
       "      <th>Formamide</th>\n",
       "    </tr>\n",
       "  </thead>\n",
       "  <tbody>\n",
       "    <tr>\n",
       "      <th>0</th>\n",
       "      <td>3417.927808</td>\n",
       "      <td>3.401407</td>\n",
       "      <td>data/20220908_K562_EVI1-GFP_ctrl_CTRL_Altius_P...</td>\n",
       "      <td>10444000</td>\n",
       "      <td>PaintShop central+offset</td>\n",
       "      <td>1h FA</td>\n",
       "    </tr>\n",
       "    <tr>\n",
       "      <th>1</th>\n",
       "      <td>2365.101010</td>\n",
       "      <td>3.401407</td>\n",
       "      <td>data/20220908_K562_EVI1-GFP_ctrl_CTRL_Altius_P...</td>\n",
       "      <td>10444000</td>\n",
       "      <td>PaintShop central+offset</td>\n",
       "      <td>1h FA</td>\n",
       "    </tr>\n",
       "    <tr>\n",
       "      <th>2</th>\n",
       "      <td>1082.781661</td>\n",
       "      <td>3.401407</td>\n",
       "      <td>data/20220908_K562_EVI1-GFP_ctrl_CTRL_Altius_P...</td>\n",
       "      <td>10444000</td>\n",
       "      <td>PaintShop central+offset</td>\n",
       "      <td>1h FA</td>\n",
       "    </tr>\n",
       "    <tr>\n",
       "      <th>3</th>\n",
       "      <td>691.978721</td>\n",
       "      <td>3.401407</td>\n",
       "      <td>data/20220908_K562_EVI1-GFP_ctrl_CTRL_Altius_P...</td>\n",
       "      <td>10444000</td>\n",
       "      <td>PaintShop central+offset</td>\n",
       "      <td>1h FA</td>\n",
       "    </tr>\n",
       "    <tr>\n",
       "      <th>4</th>\n",
       "      <td>394.539332</td>\n",
       "      <td>3.401407</td>\n",
       "      <td>data/20220908_K562_EVI1-GFP_ctrl_CTRL_Altius_P...</td>\n",
       "      <td>10444000</td>\n",
       "      <td>PaintShop central+offset</td>\n",
       "      <td>1h FA</td>\n",
       "    </tr>\n",
       "    <tr>\n",
       "      <th>...</th>\n",
       "      <td>...</td>\n",
       "      <td>...</td>\n",
       "      <td>...</td>\n",
       "      <td>...</td>\n",
       "      <td>...</td>\n",
       "      <td>...</td>\n",
       "    </tr>\n",
       "    <tr>\n",
       "      <th>765</th>\n",
       "      <td>94.076056</td>\n",
       "      <td>2.354820</td>\n",
       "      <td>data/20221019_K562_EVI1-GFP_ctrl_Altius_PaintS...</td>\n",
       "      <td>5826249</td>\n",
       "      <td>PaintShop central+offset</td>\n",
       "      <td>1h FA</td>\n",
       "    </tr>\n",
       "    <tr>\n",
       "      <th>766</th>\n",
       "      <td>106.664368</td>\n",
       "      <td>2.354820</td>\n",
       "      <td>data/20221019_K562_EVI1-GFP_ctrl_Altius_PaintS...</td>\n",
       "      <td>5826249</td>\n",
       "      <td>PaintShop central+offset</td>\n",
       "      <td>1h FA</td>\n",
       "    </tr>\n",
       "    <tr>\n",
       "      <th>767</th>\n",
       "      <td>70.306801</td>\n",
       "      <td>2.354820</td>\n",
       "      <td>data/20221019_K562_EVI1-GFP_ctrl_Altius_PaintS...</td>\n",
       "      <td>5826249</td>\n",
       "      <td>PaintShop central+offset</td>\n",
       "      <td>1h FA</td>\n",
       "    </tr>\n",
       "    <tr>\n",
       "      <th>768</th>\n",
       "      <td>88.571217</td>\n",
       "      <td>2.354820</td>\n",
       "      <td>data/20221019_K562_EVI1-GFP_ctrl_Altius_PaintS...</td>\n",
       "      <td>5826249</td>\n",
       "      <td>PaintShop central+offset</td>\n",
       "      <td>1h FA</td>\n",
       "    </tr>\n",
       "    <tr>\n",
       "      <th>769</th>\n",
       "      <td>92.454907</td>\n",
       "      <td>2.354820</td>\n",
       "      <td>data/20221019_K562_EVI1-GFP_ctrl_Altius_PaintS...</td>\n",
       "      <td>5826249</td>\n",
       "      <td>PaintShop central+offset</td>\n",
       "      <td>1h FA</td>\n",
       "    </tr>\n",
       "  </tbody>\n",
       "</table>\n",
       "<p>770 rows × 6 columns</p>\n",
       "</div>"
      ],
      "text/plain": [
       "       intensity      fwhm                                               file  \\\n",
       "0    3417.927808  3.401407  data/20220908_K562_EVI1-GFP_ctrl_CTRL_Altius_P...   \n",
       "1    2365.101010  3.401407  data/20220908_K562_EVI1-GFP_ctrl_CTRL_Altius_P...   \n",
       "2    1082.781661  3.401407  data/20220908_K562_EVI1-GFP_ctrl_CTRL_Altius_P...   \n",
       "3     691.978721  3.401407  data/20220908_K562_EVI1-GFP_ctrl_CTRL_Altius_P...   \n",
       "4     394.539332  3.401407  data/20220908_K562_EVI1-GFP_ctrl_CTRL_Altius_P...   \n",
       "..           ...       ...                                                ...   \n",
       "765    94.076056  2.354820  data/20221019_K562_EVI1-GFP_ctrl_Altius_PaintS...   \n",
       "766   106.664368  2.354820  data/20221019_K562_EVI1-GFP_ctrl_Altius_PaintS...   \n",
       "767    70.306801  2.354820  data/20221019_K562_EVI1-GFP_ctrl_Altius_PaintS...   \n",
       "768    88.571217  2.354820  data/20221019_K562_EVI1-GFP_ctrl_Altius_PaintS...   \n",
       "769    92.454907  2.354820  data/20221019_K562_EVI1-GFP_ctrl_Altius_PaintS...   \n",
       "\n",
       "     cells_volume                    Source Formamide  \n",
       "0        10444000  PaintShop central+offset     1h FA  \n",
       "1        10444000  PaintShop central+offset     1h FA  \n",
       "2        10444000  PaintShop central+offset     1h FA  \n",
       "3        10444000  PaintShop central+offset     1h FA  \n",
       "4        10444000  PaintShop central+offset     1h FA  \n",
       "..            ...                       ...       ...  \n",
       "765       5826249  PaintShop central+offset     1h FA  \n",
       "766       5826249  PaintShop central+offset     1h FA  \n",
       "767       5826249  PaintShop central+offset     1h FA  \n",
       "768       5826249  PaintShop central+offset     1h FA  \n",
       "769       5826249  PaintShop central+offset     1h FA  \n",
       "\n",
       "[770 rows x 6 columns]"
      ]
     },
     "execution_count": 5,
     "metadata": {
     },
     "output_type": "execute_result"
    }
   ],
   "source": [
    "combined_df = pd.concat([df_old_1, df_new],axis=0).reset_index(drop=True)\n",
    "combined_df"
   ]
  },
  {
   "cell_type": "markdown",
   "metadata": {
    "collapsed": false
   },
   "source": [
    "# 1H FA and Overnight FA Intensity Significance test"
   ]
  },
  {
   "cell_type": "code",
   "execution_count": 6,
   "metadata": {
    "collapsed": false
   },
   "outputs": [
    {
     "data": {
      "image/png": "[encoded data removed]",
      "text/plain": [
       "<Figure size 1080x576 with 1 Axes>"
      ]
     },
     "execution_count": 6,
     "metadata": {
      "image/png": {
       "height": 610,
       "width": 913
      },
      "needs_background": "light"
     },
     "output_type": "execute_result"
    }
   ],
   "source": [
    "plt.figure(figsize = (15,8))\n",
    "sns.set(font_scale=1.5)\n",
    "sns.set_style('white')\n",
    "boxplot = sns.boxplot(x='Source', y='intensity', hue='Formamide', data=combined_df, palette='Pastel1',) #dodge=False)\n",
    "boxplot.set_ylabel(\"Intensity\")\n",
    "boxplot.set(xlabel=None)\n",
    "boxplot.set_xticklabels(boxplot.get_xticklabels(), rotation=40, ha=\"right\")\n",
    "boxplot.set_ylim(0, 400)\n",
    "sns.despine()\n",
    "plt.show()"
   ]
  },
  {
   "cell_type": "code",
   "execution_count": 7,
   "metadata": {
    "collapsed": false
   },
   "outputs": [
    {
     "data": {
      "text/plain": [
       "(array(['PaintShop central+offset', 'PaintShop central', 'Altius'],\n",
       "       dtype=object),\n",
       " array(['1h FA', 'overnight FA'], dtype=object))"
      ]
     },
     "execution_count": 7,
     "metadata": {
     },
     "output_type": "execute_result"
    }
   ],
   "source": [
    "combined_df['Source'].unique() , combined_df['Formamide'].unique()"
   ]
  },
  {
   "cell_type": "code",
   "execution_count": 8,
   "metadata": {
    "collapsed": false
   },
   "outputs": [
   ],
   "source": [
    "A = combined_df[(combined_df['Source'].isin(['PaintShop central+offset'])) & (combined_df['Formamide'].isin(['1h FA']))]['intensity'].reset_index(drop=True)\n",
    "B = combined_df[(combined_df['Source'].isin(['PaintShop central+offset'])) & (combined_df['Formamide'].isin(['overnight FA']))]['intensity'].reset_index(drop=True)\n",
    "\n",
    "C = combined_df[(combined_df['Source'].isin(['PaintShop central'])) & (combined_df['Formamide'].isin(['1h FA']))]['intensity'].reset_index(drop=True)\n",
    "D = combined_df[(combined_df['Source'].isin(['PaintShop central'])) & (combined_df['Formamide'].isin(['overnight FA']))]['intensity'].reset_index(drop=True)\n",
    "\n",
    "E = combined_df[(combined_df['Source'].isin(['Altius'])) & (combined_df['Formamide'].isin(['1h FA']))]['intensity'].reset_index(drop=True)\n",
    "F = combined_df[(combined_df['Source'].isin(['Altius'])) & (combined_df['Formamide'].isin(['overnight FA']))]['intensity'].reset_index(drop=True)"
   ]
  },
  {
   "cell_type": "code",
   "execution_count": 9,
   "metadata": {
    "collapsed": false
   },
   "outputs": [
    {
     "ename": "NameError",
     "evalue": "name 'mannwhitneyu' is not defined",
     "output_type": "error",
     "traceback": [
      "\u001b[0;31m---------------------------------------------------------------------------\u001b[0m",
      "\u001b[0;31mNameError\u001b[0m                                 Traceback (most recent call last)",
      "\u001b[0;32m<ipython-input-9-5b28729b9dc1>\u001b[0m in \u001b[0;36m<module>\u001b[0;34m\u001b[0m\n\u001b[0;32m----> 1\u001b[0;31m \u001b[0mmannwhitneyu\u001b[0m\u001b[0;34m(\u001b[0m\u001b[0mx\u001b[0m\u001b[0;34m=\u001b[0m\u001b[0mA\u001b[0m\u001b[0;34m.\u001b[0m\u001b[0mastype\u001b[0m\u001b[0;34m(\u001b[0m\u001b[0mfloat\u001b[0m\u001b[0;34m)\u001b[0m\u001b[0;34m,\u001b[0m \u001b[0my\u001b[0m\u001b[0;34m=\u001b[0m\u001b[0mB\u001b[0m\u001b[0;34m.\u001b[0m\u001b[0mastype\u001b[0m\u001b[0;34m(\u001b[0m\u001b[0mfloat\u001b[0m\u001b[0;34m)\u001b[0m\u001b[0;34m)\u001b[0m\u001b[0;34m\u001b[0m\u001b[0;34m\u001b[0m\u001b[0m\n\u001b[0m",
      "\u001b[0;31mNameError\u001b[0m: name 'mannwhitneyu' is not defined"
     ]
    }
   ],
   "source": [
    "mannwhitneyu(x=A.astype(float), y=B.astype(float))"
   ]
  },
  {
   "cell_type": "code",
   "execution_count": 0,
   "metadata": {
    "collapsed": false
   },
   "outputs": [
   ],
   "source": [
    "mannwhitneyu(x=C.astype(float), y=D.astype(float))"
   ]
  },
  {
   "cell_type": "code",
   "execution_count": 0,
   "metadata": {
    "collapsed": false
   },
   "outputs": [
   ],
   "source": [
    "mannwhitneyu(x=E.astype(float), y=F.astype(float))"
   ]
  },
  {
   "cell_type": "markdown",
   "metadata": {
    "collapsed": false
   },
   "source": [
    "# Only 1H FA"
   ]
  },
  {
   "cell_type": "code",
   "execution_count": 0,
   "metadata": {
    "collapsed": false
   },
   "outputs": [
   ],
   "source": [
    "df_1H_FA = combined_df[~combined_df['Formamide'].isin(['overnight FA'])]\n",
    "df_1H_FA = df_1H_FA.reset_index(drop=True)\n",
    "df_1H_FA"
   ]
  },
  {
   "cell_type": "code",
   "execution_count": 0,
   "metadata": {
    "collapsed": false
   },
   "outputs": [
   ],
   "source": [
    "plt.figure(figsize = (15,8))\n",
    "sns.set(font_scale=1.5)\n",
    "sns.set_style('white')\n",
    "boxplot = sns.boxplot(x='Source', y='intensity', data=df_1H_FA, palette='Pastel1')\n",
    "boxplot.set_ylabel(\"Intensity\")\n",
    "boxplot.set(xlabel=None)\n",
    "boxplot.set_xticklabels(boxplot.get_xticklabels(), rotation=40, ha=\"right\")\n",
    "boxplot.set_ylim(0, 400)\n",
    "sns.despine()\n",
    "plt.show()"
   ]
  },
  {
   "cell_type": "code",
   "execution_count": 0,
   "metadata": {
    "collapsed": false
   },
   "outputs": [
   ],
   "source": [
    "from scipy.stats import mannwhitneyu\n",
    "from statsmodels.stats.multicomp import MultiComparison\n",
    "\n",
    "# init multi comparison\n",
    "# intensity has to be converted to float\n",
    "mc = MultiComparison(df_1H_FA['intensity'], df_1H_FA['Source'])\n",
    "\n",
    "# do pairwise tests with MannWhitneyU, Holm correction\n",
    "res, _, _ = mc.allpairtest(mannwhitneyu, method='holm')\n",
    "\n",
    "# display results as table\n",
    "res"
   ]
  },
  {
   "cell_type": "code",
   "execution_count": 0,
   "metadata": {
    "collapsed": false
   },
   "outputs": [
   ],
   "source": [
    "df_counts_1H_FA = df_1H_FA.groupby('file')[['Source', 'Formamide']].describe()\n",
    "df_counts_1H_FA\n",
    "\n",
    "# NOTE: we get the mean value for cells volume, but the value is the same for all rows for one image\n",
    "mean_volume = df_1H_FA.groupby('file')['cells_volume'].describe()['mean']\n",
    "\n",
    "# NOTE: the 10e6 multiplier gives us the number of spots per million pixels, instead of spots per pixel (very small number)\n",
    "df_counts_1H_FA['normalized_count'] = df_counts_1H_FA[('Source','count')] * 10e6 / mean_volume\n",
    "\n",
    "# df_counts_1H_FA"
   ]
  },
  {
   "cell_type": "code",
   "execution_count": 0,
   "metadata": {
    "collapsed": false
   },
   "outputs": [
   ],
   "source": [
    "plt.figure(figsize = (12,8))\n",
    "sns.set(font_scale=1.5)\n",
    "sns.set_style('white')\n",
    "boxplot = sns.boxplot(x=('Source', 'top'), y='normalized_count', data=df_counts_1H_FA, palette='Pastel1')# dodge=False)\n",
    "boxplot.set_ylabel(\"number of spots\")\n",
    "boxplot.set(xlabel=None)\n",
    "boxplot.set_xticklabels(boxplot.get_xticklabels(), rotation=40, ha=\"right\")\n",
    "sns.despine()\n",
    "plt.show()"
   ]
  },
  {
   "cell_type": "code",
   "execution_count": 0,
   "metadata": {
    "collapsed": false
   },
   "outputs": [
   ],
   "source": [
    "# init multi comparison\n",
    "# freq has to be converted to int\n",
    "mc = MultiComparison(df_counts_1H_FA.normalized_count.astype(float), df_counts_1H_FA[('Source', 'top')])\n",
    "\n",
    "# do pairwise tests with MannWhitneyU, Holm correction\n",
    "res, _, _ = mc.allpairtest(mannwhitneyu, method='holm')\n",
    "\n",
    "# display results as table\n",
    "res"
   ]
  },
  {
   "cell_type": "markdown",
   "metadata": {
    "collapsed": false
   },
   "source": [
    "# 1 HA and Overnight FA No. of spots Stastistical test"
   ]
  },
  {
   "cell_type": "code",
   "execution_count": 0,
   "metadata": {
    "collapsed": false
   },
   "outputs": [
   ],
   "source": [
    "df_counts = combined_df.groupby('file')[['Source', 'Formamide']].describe()\n",
    "df_counts\n",
    "\n",
    "# NOTE: we get the mean value for cells volume, but the value is the same for all rows for one image\n",
    "mean_volume = combined_df.groupby('file')['cells_volume'].describe()['mean']\n",
    "\n",
    "# NOTE: the 10e6 multiplier gives us the number of spots per million pixels, instead of spots per pixel (very small number)\n",
    "df_counts['normalized_count'] = df_counts[('Source','count')] * 10e6 / mean_volume\n",
    "\n",
    "# NOTE: combine probe pool and formamide time into one column (for multitest below)\n",
    "df_counts['combined_condition'] = df_counts[('Source','top')] + ', ' + df_counts[('Formamide','top')]\n",
    "df_counts"
   ]
  },
  {
   "cell_type": "code",
   "execution_count": 0,
   "metadata": {
    "collapsed": false
   },
   "outputs": [
   ],
   "source": [
    "plt.figure(figsize = (12,8))\n",
    "sns.set(font_scale=1.5)\n",
    "sns.set_style('white')\n",
    "boxplot = sns.boxplot(x=('Source', 'top'), y='normalized_count', hue=('Formamide', 'top'), data=df_counts_1, palette='Pastel1')# dodge=False)\n",
    "boxplot.set_ylabel(\"number of spots\")\n",
    "boxplot.set(xlabel=None)\n",
    "boxplot.set_xticklabels(boxplot.get_xticklabels(), rotation=40, ha=\"right\")\n",
    "boxplot.legend(title='Formamide')\n",
    "# boxplot.set_ylim(0, 100)\n",
    "sns.despine()\n",
    "plt.show()"
   ]
  },
  {
   "cell_type": "code",
   "execution_count": 0,
   "metadata": {
    "collapsed": false
   },
   "outputs": [
   ],
   "source": [
    "df_test = df_counts[['normalized_count', 'combined_condition']].reset_index()\n",
    "df_test.dropna(inplace=True)"
   ]
  },
  {
   "cell_type": "code",
   "execution_count": 0,
   "metadata": {
    "collapsed": false
   },
   "outputs": [
   ],
   "source": [
    "df_test"
   ]
  },
  {
   "cell_type": "code",
   "execution_count": 0,
   "metadata": {
    "collapsed": false
   },
   "outputs": [
   ],
   "source": [
    "df_test.dtypes"
   ]
  },
  {
   "cell_type": "code",
   "execution_count": 0,
   "metadata": {
    "collapsed": false
   },
   "outputs": [
   ],
   "source": [
    "df_test['combined_condition'].unique()"
   ]
  },
  {
   "cell_type": "code",
   "execution_count": 0,
   "metadata": {
    "collapsed": false
   },
   "outputs": [
   ],
   "source": [
    "df_paintshop_cen_off = df_test[df_test['combined_condition'].isin(['PaintShop central+offset, 1h FA','PaintShop central+offset, overnight FA'])]\n",
    "df_paintshop_cen = df_test[df_test['combined_condition'].isin(['PaintShop central, 1h FA','PaintShop central, overnight FA'])]\n",
    "df_altius = df_test[df_test['combined_condition'].isin(['Altius, 1h FA','Altius, overnight FA'])]"
   ]
  },
  {
   "cell_type": "code",
   "execution_count": 0,
   "metadata": {
    "collapsed": false
   },
   "outputs": [
   ],
   "source": [
    "#PaintShop central+offset\n",
    "a = df_paintshop_cen_off[df_paintshop_cen_off['combined_condition'].isin(['PaintShop central+offset, 1h FA'])]['normalized_count'].reset_index(drop=True)\n",
    "b = df_paintshop_cen_off[df_paintshop_cen_off['combined_condition'].isin(['PaintShop central+offset, overnight FA'])]['normalized_count'].reset_index(drop=True)"
   ]
  },
  {
   "cell_type": "code",
   "execution_count": 0,
   "metadata": {
    "collapsed": false
   },
   "outputs": [
   ],
   "source": [
    "a.dtype"
   ]
  },
  {
   "cell_type": "code",
   "execution_count": 0,
   "metadata": {
    "collapsed": false
   },
   "outputs": [
   ],
   "source": [
    "#PaintShop central\n",
    "c = df_paintshop_cen[df_paintshop_cen['combined_condition'].isin(['PaintShop central, 1h FA'])]['normalized_count'].reset_index(drop=True)\n",
    "d = df_paintshop_cen[df_paintshop_cen['combined_condition'].isin(['PaintShop central, overnight FA'])]['normalized_count'].reset_index(drop=True)"
   ]
  },
  {
   "cell_type": "code",
   "execution_count": 0,
   "metadata": {
    "collapsed": false
   },
   "outputs": [
   ],
   "source": [
    "#Altius\n",
    "e = df_altius[df_altius['combined_condition'].isin(['Altius, 1h FA'])]['normalized_count'].reset_index(drop=True)\n",
    "f = df_altius[df_altius['combined_condition'].isin(['Altius, overnight FA'])]['normalized_count'].reset_index(drop=True)"
   ]
  },
  {
   "cell_type": "code",
   "execution_count": 0,
   "metadata": {
    "collapsed": false
   },
   "outputs": [
   ],
   "source": [
    "mannwhitneyu(x=a.astype(float), y=b.astype(float))"
   ]
  },
  {
   "cell_type": "code",
   "execution_count": 0,
   "metadata": {
    "collapsed": false
   },
   "outputs": [
   ],
   "source": [
    "mannwhitneyu(x=c.astype(float), y=d.astype(float))"
   ]
  },
  {
   "cell_type": "code",
   "execution_count": 0,
   "metadata": {
    "collapsed": false
   },
   "outputs": [
   ],
   "source": [
    "mannwhitneyu(x=e.astype(float), y=f.astype(float))"
   ]
  }
 ],
 "metadata": {
  "kernelspec": {
   "display_name": "Python 3 (Ubuntu Linux)",
   "language": "python",
   "name": "python3-ubuntu",
   "resource_dir": "/usr/local/share/jupyter/kernels/python3-ubuntu"
  },
  "language_info": {
   "codemirror_mode": {
    "name": "ipython",
    "version": 3
   },
   "file_extension": ".py",
   "mimetype": "text/x-python",
   "name": "python",
   "nbconvert_exporter": "python",
   "pygments_lexer": "ipython3",
   "version": "3.8.10"
  }
 },
 "nbformat": 4,
 "nbformat_minor": 4
}
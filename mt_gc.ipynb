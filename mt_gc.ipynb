{
 "cells": [
  {
   "cell_type": "code",
   "execution_count": 1,
   "metadata": {
    "collapsed": false
   },
   "outputs": [
   ],
   "source": [
    "import pandas as pd\n",
    "import matplotlib.pyplot as plt\n",
    "import seaborn as sns\n",
    "from Bio.SeqUtils import GC\n",
    "from Bio.SeqUtils import MeltingTemp as mt"
   ]
  },
  {
   "cell_type": "code",
   "execution_count": 2,
   "metadata": {
    "collapsed": false
   },
   "outputs": [
   ],
   "source": [
    "def corrected_tm(seq):\n",
    "    tm = mt.Tm_NN(seq, Na=390)\n",
    "    tm_corr = mt.chem_correction(tm, fmd=50)\n",
    "    return tm_corr"
   ]
  },
  {
   "cell_type": "code",
   "execution_count": 3,
   "metadata": {
    "collapsed": false
   },
   "outputs": [
   ],
   "source": [
    "#Read CTRL\n",
    "colnames = ['Chromosome', 'Start', 'End', 'Name', '20nt hits', 'Align', 'Chromosome targets', 'Sequence', 'Tm']\n",
    "path = \"./CTRL_L_hg38_probes.csv\"\n",
    "df = pd.read_csv(path, names=colnames, sep=';', header=None)\n",
    "\n",
    "#Read EVI1\n",
    "colnames = ['Chromosome', 'Start', 'End', 'Name', '20nt hits', 'Align', 'Chromosome targets', 'Sequence', 'Tm']\n",
    "path = \"./EVI1_PR_M_hg38.csv\"\n",
    "df_2 = pd.read_csv(path, names=colnames, sep=';', header=None)\n",
    "\n",
    "#Read MYC\n",
    "colnames = ['Chromosome', 'Start', 'End', 'Name', '20nt hits', 'Align', 'Chromosome targets', 'Sequence', 'Tm']\n",
    "path = \"./MYC_SE_R_hg38.csv\"\n",
    "df_3 = pd.read_csv(path, names=colnames, sep=';', header=None)"
   ]
  },
  {
   "cell_type": "code",
   "execution_count": 4,
   "metadata": {
    "collapsed": false
   },
   "outputs": [
   ],
   "source": [
    "#Calculate correct TM\n",
    "df[\"Corrected Tm\"] = df['Sequence'].apply(corrected_tm)\n",
    "\n",
    "df_2[\"Corrected Tm\"] = df_2['Sequence'].apply(corrected_tm)\n",
    "\n",
    "df_3[\"Corrected Tm\"] = df_3['Sequence'].apply(corrected_tm)"
   ]
  },
  {
   "cell_type": "code",
   "execution_count": 5,
   "metadata": {
    "collapsed": false
   },
   "outputs": [
   ],
   "source": [
    "#Calculate GC\n",
    "df[\"GC\"] = df['Sequence'].apply(GC)\n",
    "\n",
    "df_2[\"GC\"] = df_2['Sequence'].apply(GC)\n",
    "\n",
    "df_3[\"GC\"] = df_3['Sequence'].apply(GC)"
   ]
  },
  {
   "cell_type": "code",
   "execution_count": 6,
   "metadata": {
    "collapsed": false
   },
   "outputs": [
   ],
   "source": [
    "df['source']='CTRL_L'\n",
    "df_2['source']='EVI1_PR_M'\n",
    "df_3['source']='MYC_SE_R'\n",
    "\n",
    "df_stack=pd.concat([df, df_2, df_3], axis=0).reset_index()"
   ]
  },
  {
   "cell_type": "code",
   "execution_count": 7,
   "metadata": {
    "collapsed": false
   },
   "outputs": [
    {
     "data": {
      "image/png": "[encoded data removed]",
      "text/plain": [
       "<Figure size 576x432 with 1 Axes>"
      ]
     },
     "execution_count": 7,
     "metadata": {
      "image/png": {
       "height": 363,
       "width": 505
      },
      "needs_background": "light"
     },
     "output_type": "execute_result"
    }
   ],
   "source": [
    "import seaborn as sns\n",
    "plt.figure(figsize = (8,6))\n",
    "sns.set(font_scale = 1.2)\n",
    "sns.set_style('white')\n",
    "boxplot = sns.boxplot(data=df_stack, y=\"Corrected Tm\", x= \"source\", palette='Pastel1')\n",
    "boxplot.set(xlabel=None)\n",
    "sns.despine()\n",
    "plt.show()"
   ]
  },
  {
   "cell_type": "code",
   "execution_count": 8,
   "metadata": {
    "collapsed": false
   },
   "outputs": [
    {
     "data": {
      "text/html": [
       "<div>\n",
       "<style scoped>\n",
       "    .dataframe tbody tr th:only-of-type {\n",
       "        vertical-align: middle;\n",
       "    }\n",
       "\n",
       "    .dataframe tbody tr th {\n",
       "        vertical-align: top;\n",
       "    }\n",
       "\n",
       "    .dataframe thead th {\n",
       "        text-align: right;\n",
       "    }\n",
       "</style>\n",
       "<table border=\"1\" class=\"dataframe\">\n",
       "  <thead>\n",
       "    <tr style=\"text-align: right;\">\n",
       "      <th></th>\n",
       "      <th>index</th>\n",
       "      <th>Chromosome</th>\n",
       "      <th>Start</th>\n",
       "      <th>End</th>\n",
       "      <th>Name</th>\n",
       "      <th>20nt hits</th>\n",
       "      <th>Align</th>\n",
       "      <th>Chromosome targets</th>\n",
       "      <th>Sequence</th>\n",
       "      <th>Tm</th>\n",
       "      <th>Corrected Tm</th>\n",
       "      <th>GC</th>\n",
       "      <th>source</th>\n",
       "    </tr>\n",
       "  </thead>\n",
       "  <tbody>\n",
       "    <tr>\n",
       "      <th>0</th>\n",
       "      <td>0</td>\n",
       "      <td>chr3</td>\n",
       "      <td>169000047</td>\n",
       "      <td>169000087</td>\n",
       "      <td>CTRL_L_8</td>\n",
       "      <td>1</td>\n",
       "      <td>40</td>\n",
       "      <td>chr3</td>\n",
       "      <td>CACTCAGTTTGGGATGGGAGTTTAGCTATCTTCTTTCCAG</td>\n",
       "      <td>69.93169,,</td>\n",
       "      <td>42.177064</td>\n",
       "      <td>45.0</td>\n",
       "      <td>CTRL_L</td>\n",
       "    </tr>\n",
       "    <tr>\n",
       "      <th>1</th>\n",
       "      <td>1</td>\n",
       "      <td>chr3</td>\n",
       "      <td>169000299</td>\n",
       "      <td>169000339</td>\n",
       "      <td>CTRL_L_14</td>\n",
       "      <td>1</td>\n",
       "      <td>40</td>\n",
       "      <td>chr3</td>\n",
       "      <td>GTCCTTTCTTTGGTCTTTGCTTTCCACTTTAGCCCTAATG</td>\n",
       "      <td>69.809028,,</td>\n",
       "      <td>42.028058</td>\n",
       "      <td>42.5</td>\n",
       "      <td>CTRL_L</td>\n",
       "    </tr>\n",
       "    <tr>\n",
       "      <th>2</th>\n",
       "      <td>2</td>\n",
       "      <td>chr3</td>\n",
       "      <td>169000341</td>\n",
       "      <td>169000381</td>\n",
       "      <td>CTRL_L_15</td>\n",
       "      <td>1</td>\n",
       "      <td>40</td>\n",
       "      <td>chr3</td>\n",
       "      <td>AACTATTTTCCTCTCTTCCAAAGGCTTTTTCAGTCCTTCT</td>\n",
       "      <td>68.614881,,</td>\n",
       "      <td>40.904312</td>\n",
       "      <td>37.5</td>\n",
       "      <td>CTRL_L</td>\n",
       "    </tr>\n",
       "    <tr>\n",
       "      <th>3</th>\n",
       "      <td>3</td>\n",
       "      <td>chr3</td>\n",
       "      <td>169000383</td>\n",
       "      <td>169000423</td>\n",
       "      <td>CTRL_L_16</td>\n",
       "      <td>1</td>\n",
       "      <td>40</td>\n",
       "      <td>chr3</td>\n",
       "      <td>ATCAGAAGACATTAAAATCCTCCATTGAATCCTCTGACCT</td>\n",
       "      <td>68.023115,,</td>\n",
       "      <td>40.327513</td>\n",
       "      <td>37.5</td>\n",
       "      <td>CTRL_L</td>\n",
       "    </tr>\n",
       "    <tr>\n",
       "      <th>4</th>\n",
       "      <td>4</td>\n",
       "      <td>chr3</td>\n",
       "      <td>169000467</td>\n",
       "      <td>169000507</td>\n",
       "      <td>CTRL_L_18</td>\n",
       "      <td>1</td>\n",
       "      <td>40</td>\n",
       "      <td>chr3</td>\n",
       "      <td>ACAATCACAATAAACTGTTGATTCCAGACCTTTTTCCACA</td>\n",
       "      <td>68.214893,,</td>\n",
       "      <td>40.458661</td>\n",
       "      <td>35.0</td>\n",
       "      <td>CTRL_L</td>\n",
       "    </tr>\n",
       "    <tr>\n",
       "      <th>...</th>\n",
       "      <td>...</td>\n",
       "      <td>...</td>\n",
       "      <td>...</td>\n",
       "      <td>...</td>\n",
       "      <td>...</td>\n",
       "      <td>...</td>\n",
       "      <td>...</td>\n",
       "      <td>...</td>\n",
       "      <td>...</td>\n",
       "      <td>...</td>\n",
       "      <td>...</td>\n",
       "      <td>...</td>\n",
       "      <td>...</td>\n",
       "    </tr>\n",
       "    <tr>\n",
       "      <th>220</th>\n",
       "      <td>64</td>\n",
       "      <td>chr8</td>\n",
       "      <td>129568673</td>\n",
       "      <td>129568713</td>\n",
       "      <td>MYC_SE_R_110</td>\n",
       "      <td>1</td>\n",
       "      <td>40</td>\n",
       "      <td>chr8</td>\n",
       "      <td>AGTATTATTATTTAACATTTTTTAAGCACTTTTGATGGAC</td>\n",
       "      <td>61.637969</td>\n",
       "      <td>33.769141</td>\n",
       "      <td>22.5</td>\n",
       "      <td>MYC_SE_R</td>\n",
       "    </tr>\n",
       "    <tr>\n",
       "      <th>221</th>\n",
       "      <td>65</td>\n",
       "      <td>chr8</td>\n",
       "      <td>129568799</td>\n",
       "      <td>129568839</td>\n",
       "      <td>MYC_SE_R_113</td>\n",
       "      <td>1</td>\n",
       "      <td>40</td>\n",
       "      <td>chr8</td>\n",
       "      <td>TAAGCTCTTATCCATTTTTTCAAGGAGCTTCTTCTTCCCC</td>\n",
       "      <td>68.863746</td>\n",
       "      <td>41.130367</td>\n",
       "      <td>40.0</td>\n",
       "      <td>MYC_SE_R</td>\n",
       "    </tr>\n",
       "    <tr>\n",
       "      <th>222</th>\n",
       "      <td>66</td>\n",
       "      <td>chr8</td>\n",
       "      <td>129568925</td>\n",
       "      <td>129568965</td>\n",
       "      <td>MYC_SE_R_116</td>\n",
       "      <td>1</td>\n",
       "      <td>40</td>\n",
       "      <td>chr8</td>\n",
       "      <td>TTTATATGTGTTATCCAGTGGTATACTTACCTTCATGTTG</td>\n",
       "      <td>64.698584</td>\n",
       "      <td>36.901364</td>\n",
       "      <td>32.5</td>\n",
       "      <td>MYC_SE_R</td>\n",
       "    </tr>\n",
       "    <tr>\n",
       "      <th>223</th>\n",
       "      <td>67</td>\n",
       "      <td>chr8</td>\n",
       "      <td>129568967</td>\n",
       "      <td>129569007</td>\n",
       "      <td>MYC_SE_R_117</td>\n",
       "      <td>2</td>\n",
       "      <td>40,27</td>\n",
       "      <td>chr8,chrX</td>\n",
       "      <td>CTTTAACATGACTTACTGCAGGCTAGATACTGTGCTAAGT</td>\n",
       "      <td>68.362177</td>\n",
       "      <td>40.565458</td>\n",
       "      <td>40.0</td>\n",
       "      <td>MYC_SE_R</td>\n",
       "    </tr>\n",
       "    <tr>\n",
       "      <th>224</th>\n",
       "      <td>68</td>\n",
       "      <td>chr8</td>\n",
       "      <td>129569009</td>\n",
       "      <td>129569049</td>\n",
       "      <td>MYC_SE_R_118</td>\n",
       "      <td>1</td>\n",
       "      <td>40</td>\n",
       "      <td>chr8</td>\n",
       "      <td>AAGAGGATTTTTCTTTTTCACAAACCTTTGTTTCTTTTTC</td>\n",
       "      <td>64.941806</td>\n",
       "      <td>37.097467</td>\n",
       "      <td>27.5</td>\n",
       "      <td>MYC_SE_R</td>\n",
       "    </tr>\n",
       "  </tbody>\n",
       "</table>\n",
       "<p>225 rows × 13 columns</p>\n",
       "</div>"
      ],
      "text/plain": [
       "     index Chromosome      Start        End          Name  20nt hits  Align  \\\n",
       "0        0       chr3  169000047  169000087      CTRL_L_8          1     40   \n",
       "1        1       chr3  169000299  169000339     CTRL_L_14          1     40   \n",
       "2        2       chr3  169000341  169000381     CTRL_L_15          1     40   \n",
       "3        3       chr3  169000383  169000423     CTRL_L_16          1     40   \n",
       "4        4       chr3  169000467  169000507     CTRL_L_18          1     40   \n",
       "..     ...        ...        ...        ...           ...        ...    ...   \n",
       "220     64       chr8  129568673  129568713  MYC_SE_R_110          1     40   \n",
       "221     65       chr8  129568799  129568839  MYC_SE_R_113          1     40   \n",
       "222     66       chr8  129568925  129568965  MYC_SE_R_116          1     40   \n",
       "223     67       chr8  129568967  129569007  MYC_SE_R_117          2  40,27   \n",
       "224     68       chr8  129569009  129569049  MYC_SE_R_118          1     40   \n",
       "\n",
       "    Chromosome targets                                  Sequence           Tm  \\\n",
       "0                 chr3  CACTCAGTTTGGGATGGGAGTTTAGCTATCTTCTTTCCAG   69.93169,,   \n",
       "1                 chr3  GTCCTTTCTTTGGTCTTTGCTTTCCACTTTAGCCCTAATG  69.809028,,   \n",
       "2                 chr3  AACTATTTTCCTCTCTTCCAAAGGCTTTTTCAGTCCTTCT  68.614881,,   \n",
       "3                 chr3  ATCAGAAGACATTAAAATCCTCCATTGAATCCTCTGACCT  68.023115,,   \n",
       "4                 chr3  ACAATCACAATAAACTGTTGATTCCAGACCTTTTTCCACA  68.214893,,   \n",
       "..                 ...                                       ...          ...   \n",
       "220               chr8  AGTATTATTATTTAACATTTTTTAAGCACTTTTGATGGAC    61.637969   \n",
       "221               chr8  TAAGCTCTTATCCATTTTTTCAAGGAGCTTCTTCTTCCCC    68.863746   \n",
       "222               chr8  TTTATATGTGTTATCCAGTGGTATACTTACCTTCATGTTG    64.698584   \n",
       "223          chr8,chrX  CTTTAACATGACTTACTGCAGGCTAGATACTGTGCTAAGT    68.362177   \n",
       "224               chr8  AAGAGGATTTTTCTTTTTCACAAACCTTTGTTTCTTTTTC    64.941806   \n",
       "\n",
       "     Corrected Tm    GC    source  \n",
       "0       42.177064  45.0    CTRL_L  \n",
       "1       42.028058  42.5    CTRL_L  \n",
       "2       40.904312  37.5    CTRL_L  \n",
       "3       40.327513  37.5    CTRL_L  \n",
       "4       40.458661  35.0    CTRL_L  \n",
       "..            ...   ...       ...  \n",
       "220     33.769141  22.5  MYC_SE_R  \n",
       "221     41.130367  40.0  MYC_SE_R  \n",
       "222     36.901364  32.5  MYC_SE_R  \n",
       "223     40.565458  40.0  MYC_SE_R  \n",
       "224     37.097467  27.5  MYC_SE_R  \n",
       "\n",
       "[225 rows x 13 columns]"
      ]
     },
     "execution_count": 8,
     "metadata": {
     },
     "output_type": "execute_result"
    }
   ],
   "source": [
    "df_stack"
   ]
  },
  {
   "cell_type": "code",
   "execution_count": 9,
   "metadata": {
    "collapsed": false
   },
   "outputs": [
    {
     "data": {
      "image/png": "[encoded data removed]",
      "text/plain": [
       "<Figure size 576x432 with 1 Axes>"
      ]
     },
     "execution_count": 9,
     "metadata": {
      "image/png": {
       "height": 365,
       "width": 505
      }
     },
     "output_type": "execute_result"
    }
   ],
   "source": [
    "import seaborn as sns\n",
    "plt.figure(figsize = (8,6))\n",
    "sns.set(font_scale = 1.2)\n",
    "sns.set_style('white')\n",
    "boxplot = sns.boxplot(data=df_stack, y=\"GC\", x= \"source\", palette='Pastel1')\n",
    "boxplot.set(xlabel=None)\n",
    "sns.despine()\n",
    "plt.show()"
   ]
  },
  {
   "cell_type": "code",
   "execution_count": 10,
   "metadata": {
    "collapsed": false
   },
   "outputs": [
    {
     "data": {
      "text/html": [
       "<table class=\"simpletable\">\n",
       "<caption>Test Multiple Comparison mannwhitneyu \n",
       "FWER=0.05 method=holm\n",
       "alphacSidak=0.02, alphacBonf=0.017</caption>\n",
       "<tr>\n",
       "   <th>group1</th>    <th>group2</th>    <th>stat</th>   <th>pval</th>  <th>pval_corr</th> <th>reject</th>\n",
       "</tr>\n",
       "<tr>\n",
       "   <td>CTRL_L</td>   <td>EVI1_PR_M</td> <td>3126.5</td> <td>0.7638</td>  <td>0.7638</td>    <td>False</td>\n",
       "</tr>\n",
       "<tr>\n",
       "   <td>CTRL_L</td>   <td>MYC_SE_R</td>  <td>2390.0</td> <td>0.2952</td>  <td>0.7596</td>    <td>False</td>\n",
       "</tr>\n",
       "<tr>\n",
       "  <td>EVI1_PR_M</td> <td>MYC_SE_R</td>  <td>2428.5</td> <td>0.2532</td>  <td>0.7596</td>    <td>False</td>\n",
       "</tr>\n",
       "</table>"
      ],
      "text/plain": [
       "<class 'statsmodels.iolib.table.SimpleTable'>"
      ]
     },
     "execution_count": 10,
     "metadata": {
     },
     "output_type": "execute_result"
    }
   ],
   "source": [
    "#For GC content\n",
    "\n",
    "from scipy.stats import mannwhitneyu\n",
    "from statsmodels.stats.multicomp import MultiComparison\n",
    "\n",
    "# init multi comparison\n",
    "\n",
    "mc = MultiComparison(df_stack['GC'], df_stack['source'])\n",
    "\n",
    "# do pairwise tests with MannWhitneyU, Holm correction\n",
    "res, _, _ = mc.allpairtest(mannwhitneyu, method='holm')\n",
    "\n",
    "# display results as table\n",
    "res"
   ]
  },
  {
   "cell_type": "code",
   "execution_count": 11,
   "metadata": {
    "collapsed": false
   },
   "outputs": [
    {
     "data": {
      "text/html": [
       "<table class=\"simpletable\">\n",
       "<caption>Test Multiple Comparison mannwhitneyu \n",
       "FWER=0.05 method=holm\n",
       "alphacSidak=0.02, alphacBonf=0.017</caption>\n",
       "<tr>\n",
       "   <th>group1</th>    <th>group2</th>    <th>stat</th>   <th>pval</th>  <th>pval_corr</th> <th>reject</th>\n",
       "</tr>\n",
       "<tr>\n",
       "   <td>CTRL_L</td>   <td>EVI1_PR_M</td> <td>3051.0</td> <td>0.9745</td>  <td>0.9745</td>    <td>False</td>\n",
       "</tr>\n",
       "<tr>\n",
       "   <td>CTRL_L</td>   <td>MYC_SE_R</td>  <td>2396.0</td> <td>0.3081</td>  <td>0.9244</td>    <td>False</td>\n",
       "</tr>\n",
       "<tr>\n",
       "  <td>EVI1_PR_M</td> <td>MYC_SE_R</td>  <td>2507.0</td> <td>0.4021</td>  <td>0.9244</td>    <td>False</td>\n",
       "</tr>\n",
       "</table>"
      ],
      "text/plain": [
       "<class 'statsmodels.iolib.table.SimpleTable'>"
      ]
     },
     "execution_count": 11,
     "metadata": {
     },
     "output_type": "execute_result"
    }
   ],
   "source": [
    "#For Tm \n",
    "\n",
    "# init multi comparison\n",
    "mc = MultiComparison(df_stack['Corrected Tm'], df_stack['source'])\n",
    "\n",
    "# do pairwise tests with MannWhitneyU, Holm correction\n",
    "res, _, _ = mc.allpairtest(mannwhitneyu, method='holm')\n",
    "\n",
    "# display results as table\n",
    "res"
   ]
  }
 ],
 "metadata": {
  "kernelspec": {
   "display_name": "Python 3 (Ubuntu Linux)",
   "language": "python",
   "name": "python3-ubuntu",
   "resource_dir": "/usr/local/share/jupyter/kernels/python3-ubuntu"
  },
  "language_info": {
   "codemirror_mode": {
    "name": "ipython",
    "version": 3
   },
   "file_extension": ".py",
   "mimetype": "text/x-python",
   "name": "python",
   "nbconvert_exporter": "python",
   "pygments_lexer": "ipython3",
   "version": "3.8.10"
  }
 },
 "nbformat": 4,
 "nbformat_minor": 4
}
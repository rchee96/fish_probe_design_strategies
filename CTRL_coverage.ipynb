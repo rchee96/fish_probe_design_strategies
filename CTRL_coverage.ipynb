{
 "cells": [
  {
   "cell_type": "code",
   "execution_count": 1,
   "id": "9fa73918",
   "metadata": {},
   "outputs": [
    {
     "data": {
      "text/plain": [
       "'F:\\\\FISH'"
      ]
     },
     "execution_count": 1,
     "metadata": {},
     "output_type": "execute_result"
    }
   ],
   "source": [
    "import pandas as pd\n",
    "import numpy as np\n",
    "import matplotlib.pyplot as plt\n",
    "import os\n",
    "os.getcwd()\n",
    "\n",
    "#change working directory\n",
    "os.chdir('F:\\\\FISH')\n",
    "os.getcwd()"
   ]
  },
  {
   "cell_type": "code",
   "execution_count": 2,
   "id": "c65829dd",
   "metadata": {},
   "outputs": [],
   "source": [
    "colnames = ['Chromosome', 'Start', 'End', 'Name', 'Sequence', 'Tot_hits', 'GC', 'Tm']\n",
    "phase1 = \"/FISH/CTRL_L/CTRL_L_hg38_phase1.bed\"\n",
    "phase1 = pd.read_csv(phase1, names=colnames, sep='\\t', header=None)\n",
    "phase1[\"Sequence\"] = phase1[\"Sequence\"].str.upper()"
   ]
  },
  {
   "cell_type": "code",
   "execution_count": 3,
   "id": "42804bd3",
   "metadata": {},
   "outputs": [],
   "source": [
    "colnames2 = ['Chromosome', 'Start', 'End', 'Name', '20nt_hits', 'Align', 'Chromosome_targets', 'Mismatches', 'html']\n",
    "phase2 = \"/FISH/CTRL_L/CTRL_L_hg38_phase2.bed\"\n",
    "phase2 = pd.read_csv(phase2, names=colnames2, sep='\\t', header=None)\n",
    "phase2 = phase2.drop(columns=['html'])"
   ]
  },
  {
   "cell_type": "code",
   "execution_count": 4,
   "id": "9e985cb2",
   "metadata": {},
   "outputs": [],
   "source": [
    "# Merge pahse1 and phase2 on the names (by setting them as index)\n",
    "# inner join only keeps names that are in both data frames\n",
    "df = phase2.set_index('Name').join(phase1.set_index('Name')[['Sequence','Tot_hits','GC', 'Tm']], how='inner')\n",
    "df.reset_index(inplace=True)"
   ]
  },
  {
   "cell_type": "code",
   "execution_count": 5,
   "id": "dd648ea8",
   "metadata": {},
   "outputs": [],
   "source": [
    "# Remove sequences with too many hit over 20nt, STANDARD MAX 3\n",
    "# Remove sequences with more than 1 target in chr3 (target chromosome)\n",
    "# Remove targets on translocated chromosome\n",
    "\n",
    "df = df[~df['Chromosome_targets'].str.contains(\"chr3\\(\")] \n",
    "df = df[~df['Chromosome_targets'].str.contains(\"chr8\")]\n",
    "df = df[~df['Chromosome_targets'].str.contains(\"chr8\\(\")]\n",
    "\n",
    "df.reset_index(drop=True, inplace=True)"
   ]
  },
  {
   "cell_type": "code",
   "execution_count": 6,
   "id": "56399e20",
   "metadata": {},
   "outputs": [],
   "source": [
    "df_1000_3 = df.copy()\n",
    "df_1000_3 = df_1000_3[(df_1000_3['Tot_hits']<1000)]\n",
    "df_1000_3 = df_1000_3[df_1000_3['20nt_hits']<3]"
   ]
  },
  {
   "cell_type": "code",
   "execution_count": 7,
   "id": "26da0e74",
   "metadata": {},
   "outputs": [
    {
     "data": {
      "text/html": [
       "<div>\n",
       "<style scoped>\n",
       "    .dataframe tbody tr th:only-of-type {\n",
       "        vertical-align: middle;\n",
       "    }\n",
       "\n",
       "    .dataframe tbody tr th {\n",
       "        vertical-align: top;\n",
       "    }\n",
       "\n",
       "    .dataframe thead th {\n",
       "        text-align: right;\n",
       "    }\n",
       "</style>\n",
       "<table border=\"1\" class=\"dataframe\">\n",
       "  <thead>\n",
       "    <tr style=\"text-align: right;\">\n",
       "      <th></th>\n",
       "      <th>Name</th>\n",
       "      <th>Chromosome</th>\n",
       "      <th>Start</th>\n",
       "      <th>End</th>\n",
       "      <th>20nt_hits</th>\n",
       "      <th>Align</th>\n",
       "      <th>Chromosome_targets</th>\n",
       "      <th>Mismatches</th>\n",
       "      <th>Sequence</th>\n",
       "      <th>Tot_hits</th>\n",
       "      <th>GC</th>\n",
       "      <th>Tm</th>\n",
       "      <th>Sequence with Overhang</th>\n",
       "    </tr>\n",
       "  </thead>\n",
       "  <tbody>\n",
       "    <tr>\n",
       "      <th>1</th>\n",
       "      <td>CTRL_L_8</td>\n",
       "      <td>chr3</td>\n",
       "      <td>169000047</td>\n",
       "      <td>169000087</td>\n",
       "      <td>1</td>\n",
       "      <td>40</td>\n",
       "      <td>chr3</td>\n",
       "      <td>0</td>\n",
       "      <td>CACTCAGTTTGGGATGGGAGTTTAGCTATCTTCTTTCCAG</td>\n",
       "      <td>97</td>\n",
       "      <td>45.0</td>\n",
       "      <td>69.931690</td>\n",
       "      <td>GCTATCGTTCGTTCGAGGCCCACTCAGTTTGGGATGGGAGTTTAGC...</td>\n",
       "    </tr>\n",
       "    <tr>\n",
       "      <th>4</th>\n",
       "      <td>CTRL_L_14</td>\n",
       "      <td>chr3</td>\n",
       "      <td>169000299</td>\n",
       "      <td>169000339</td>\n",
       "      <td>1</td>\n",
       "      <td>40</td>\n",
       "      <td>chr3</td>\n",
       "      <td>0</td>\n",
       "      <td>GTCCTTTCTTTGGTCTTTGCTTTCCACTTTAGCCCTAATG</td>\n",
       "      <td>175</td>\n",
       "      <td>42.5</td>\n",
       "      <td>69.809028</td>\n",
       "      <td>GCTATCGTTCGTTCGAGGCCGTCCTTTCTTTGGTCTTTGCTTTCCA...</td>\n",
       "    </tr>\n",
       "    <tr>\n",
       "      <th>5</th>\n",
       "      <td>CTRL_L_15</td>\n",
       "      <td>chr3</td>\n",
       "      <td>169000341</td>\n",
       "      <td>169000381</td>\n",
       "      <td>1</td>\n",
       "      <td>40</td>\n",
       "      <td>chr3</td>\n",
       "      <td>0</td>\n",
       "      <td>AACTATTTTCCTCTCTTCCAAAGGCTTTTTCAGTCCTTCT</td>\n",
       "      <td>256</td>\n",
       "      <td>37.5</td>\n",
       "      <td>68.614881</td>\n",
       "      <td>GCTATCGTTCGTTCGAGGCCAACTATTTTCCTCTCTTCCAAAGGCT...</td>\n",
       "    </tr>\n",
       "    <tr>\n",
       "      <th>6</th>\n",
       "      <td>CTRL_L_16</td>\n",
       "      <td>chr3</td>\n",
       "      <td>169000383</td>\n",
       "      <td>169000423</td>\n",
       "      <td>1</td>\n",
       "      <td>40</td>\n",
       "      <td>chr3</td>\n",
       "      <td>0</td>\n",
       "      <td>ATCAGAAGACATTAAAATCCTCCATTGAATCCTCTGACCT</td>\n",
       "      <td>126</td>\n",
       "      <td>37.5</td>\n",
       "      <td>68.023115</td>\n",
       "      <td>GCTATCGTTCGTTCGAGGCCATCAGAAGACATTAAAATCCTCCATT...</td>\n",
       "    </tr>\n",
       "    <tr>\n",
       "      <th>7</th>\n",
       "      <td>CTRL_L_17</td>\n",
       "      <td>chr3</td>\n",
       "      <td>169000425</td>\n",
       "      <td>169000465</td>\n",
       "      <td>2</td>\n",
       "      <td>40,20</td>\n",
       "      <td>chr10,chr3</td>\n",
       "      <td>0,0</td>\n",
       "      <td>GGCTCAGCTCTTTGGCATGGTCTCCTACCATAATTTAAAG</td>\n",
       "      <td>80</td>\n",
       "      <td>45.0</td>\n",
       "      <td>70.449362</td>\n",
       "      <td>GCTATCGTTCGTTCGAGGCCGGCTCAGCTCTTTGGCATGGTCTCCT...</td>\n",
       "    </tr>\n",
       "    <tr>\n",
       "      <th>...</th>\n",
       "      <td>...</td>\n",
       "      <td>...</td>\n",
       "      <td>...</td>\n",
       "      <td>...</td>\n",
       "      <td>...</td>\n",
       "      <td>...</td>\n",
       "      <td>...</td>\n",
       "      <td>...</td>\n",
       "      <td>...</td>\n",
       "      <td>...</td>\n",
       "      <td>...</td>\n",
       "      <td>...</td>\n",
       "      <td>...</td>\n",
       "    </tr>\n",
       "    <tr>\n",
       "      <th>100</th>\n",
       "      <td>CTRL_L_113</td>\n",
       "      <td>chr3</td>\n",
       "      <td>169004457</td>\n",
       "      <td>169004497</td>\n",
       "      <td>1</td>\n",
       "      <td>40</td>\n",
       "      <td>chr3</td>\n",
       "      <td>0</td>\n",
       "      <td>GGAGGAAGGAGAAGAGAAATAATCTACTATTTTGCCTAGA</td>\n",
       "      <td>534</td>\n",
       "      <td>37.5</td>\n",
       "      <td>66.320844</td>\n",
       "      <td>GCTATCGTTCGTTCGAGGCCGGAGGAAGGAGAAGAGAAATAATCTA...</td>\n",
       "    </tr>\n",
       "    <tr>\n",
       "      <th>102</th>\n",
       "      <td>CTRL_L_115</td>\n",
       "      <td>chr3</td>\n",
       "      <td>169004541</td>\n",
       "      <td>169004581</td>\n",
       "      <td>1</td>\n",
       "      <td>40</td>\n",
       "      <td>chr3</td>\n",
       "      <td>0</td>\n",
       "      <td>AAGAGAAGCAAGCAAGGATGAATAGGAAAAGGGCTTTGGA</td>\n",
       "      <td>138</td>\n",
       "      <td>42.5</td>\n",
       "      <td>71.364677</td>\n",
       "      <td>GCTATCGTTCGTTCGAGGCCAAGAGAAGCAAGCAAGGATGAATAGG...</td>\n",
       "    </tr>\n",
       "    <tr>\n",
       "      <th>103</th>\n",
       "      <td>CTRL_L_116</td>\n",
       "      <td>chr3</td>\n",
       "      <td>169004583</td>\n",
       "      <td>169004623</td>\n",
       "      <td>1</td>\n",
       "      <td>40</td>\n",
       "      <td>chr3</td>\n",
       "      <td>0</td>\n",
       "      <td>TTGGGGTTGGCCTATAAATGAAAGAAAAGGAAACGGAGAA</td>\n",
       "      <td>520</td>\n",
       "      <td>40.0</td>\n",
       "      <td>70.222211</td>\n",
       "      <td>GCTATCGTTCGTTCGAGGCCTTGGGGTTGGCCTATAAATGAAAGAA...</td>\n",
       "    </tr>\n",
       "    <tr>\n",
       "      <th>104</th>\n",
       "      <td>CTRL_L_117</td>\n",
       "      <td>chr3</td>\n",
       "      <td>169004625</td>\n",
       "      <td>169004665</td>\n",
       "      <td>1</td>\n",
       "      <td>40</td>\n",
       "      <td>chr3</td>\n",
       "      <td>0</td>\n",
       "      <td>AATACCTGTCTGACTTATACCTTGCCACAATCTCCTTAAA</td>\n",
       "      <td>59</td>\n",
       "      <td>37.5</td>\n",
       "      <td>67.953849</td>\n",
       "      <td>GCTATCGTTCGTTCGAGGCCAATACCTGTCTGACTTATACCTTGCC...</td>\n",
       "    </tr>\n",
       "    <tr>\n",
       "      <th>105</th>\n",
       "      <td>CTRL_L_118</td>\n",
       "      <td>chr3</td>\n",
       "      <td>169004667</td>\n",
       "      <td>169004707</td>\n",
       "      <td>2</td>\n",
       "      <td>40,27</td>\n",
       "      <td>chr18,chr3</td>\n",
       "      <td>0,0</td>\n",
       "      <td>GAGTTGTTGCTGTGATACTATGGTTTTAAAAGATCTGAAA</td>\n",
       "      <td>165</td>\n",
       "      <td>32.5</td>\n",
       "      <td>65.777876</td>\n",
       "      <td>GCTATCGTTCGTTCGAGGCCGAGTTGTTGCTGTGATACTATGGTTT...</td>\n",
       "    </tr>\n",
       "  </tbody>\n",
       "</table>\n",
       "<p>94 rows × 13 columns</p>\n",
       "</div>"
      ],
      "text/plain": [
       "           Name Chromosome      Start        End  20nt_hits  Align  \\\n",
       "1      CTRL_L_8       chr3  169000047  169000087          1     40   \n",
       "4     CTRL_L_14       chr3  169000299  169000339          1     40   \n",
       "5     CTRL_L_15       chr3  169000341  169000381          1     40   \n",
       "6     CTRL_L_16       chr3  169000383  169000423          1     40   \n",
       "7     CTRL_L_17       chr3  169000425  169000465          2  40,20   \n",
       "..          ...        ...        ...        ...        ...    ...   \n",
       "100  CTRL_L_113       chr3  169004457  169004497          1     40   \n",
       "102  CTRL_L_115       chr3  169004541  169004581          1     40   \n",
       "103  CTRL_L_116       chr3  169004583  169004623          1     40   \n",
       "104  CTRL_L_117       chr3  169004625  169004665          1     40   \n",
       "105  CTRL_L_118       chr3  169004667  169004707          2  40,27   \n",
       "\n",
       "    Chromosome_targets Mismatches                                  Sequence  \\\n",
       "1                 chr3          0  CACTCAGTTTGGGATGGGAGTTTAGCTATCTTCTTTCCAG   \n",
       "4                 chr3          0  GTCCTTTCTTTGGTCTTTGCTTTCCACTTTAGCCCTAATG   \n",
       "5                 chr3          0  AACTATTTTCCTCTCTTCCAAAGGCTTTTTCAGTCCTTCT   \n",
       "6                 chr3          0  ATCAGAAGACATTAAAATCCTCCATTGAATCCTCTGACCT   \n",
       "7           chr10,chr3        0,0  GGCTCAGCTCTTTGGCATGGTCTCCTACCATAATTTAAAG   \n",
       "..                 ...        ...                                       ...   \n",
       "100               chr3          0  GGAGGAAGGAGAAGAGAAATAATCTACTATTTTGCCTAGA   \n",
       "102               chr3          0  AAGAGAAGCAAGCAAGGATGAATAGGAAAAGGGCTTTGGA   \n",
       "103               chr3          0  TTGGGGTTGGCCTATAAATGAAAGAAAAGGAAACGGAGAA   \n",
       "104               chr3          0  AATACCTGTCTGACTTATACCTTGCCACAATCTCCTTAAA   \n",
       "105         chr18,chr3        0,0  GAGTTGTTGCTGTGATACTATGGTTTTAAAAGATCTGAAA   \n",
       "\n",
       "     Tot_hits    GC         Tm  \\\n",
       "1          97  45.0  69.931690   \n",
       "4         175  42.5  69.809028   \n",
       "5         256  37.5  68.614881   \n",
       "6         126  37.5  68.023115   \n",
       "7          80  45.0  70.449362   \n",
       "..        ...   ...        ...   \n",
       "100       534  37.5  66.320844   \n",
       "102       138  42.5  71.364677   \n",
       "103       520  40.0  70.222211   \n",
       "104        59  37.5  67.953849   \n",
       "105       165  32.5  65.777876   \n",
       "\n",
       "                                Sequence with Overhang  \n",
       "1    GCTATCGTTCGTTCGAGGCCCACTCAGTTTGGGATGGGAGTTTAGC...  \n",
       "4    GCTATCGTTCGTTCGAGGCCGTCCTTTCTTTGGTCTTTGCTTTCCA...  \n",
       "5    GCTATCGTTCGTTCGAGGCCAACTATTTTCCTCTCTTCCAAAGGCT...  \n",
       "6    GCTATCGTTCGTTCGAGGCCATCAGAAGACATTAAAATCCTCCATT...  \n",
       "7    GCTATCGTTCGTTCGAGGCCGGCTCAGCTCTTTGGCATGGTCTCCT...  \n",
       "..                                                 ...  \n",
       "100  GCTATCGTTCGTTCGAGGCCGGAGGAAGGAGAAGAGAAATAATCTA...  \n",
       "102  GCTATCGTTCGTTCGAGGCCAAGAGAAGCAAGCAAGGATGAATAGG...  \n",
       "103  GCTATCGTTCGTTCGAGGCCTTGGGGTTGGCCTATAAATGAAAGAA...  \n",
       "104  GCTATCGTTCGTTCGAGGCCAATACCTGTCTGACTTATACCTTGCC...  \n",
       "105  GCTATCGTTCGTTCGAGGCCGAGTTGTTGCTGTGATACTATGGTTT...  \n",
       "\n",
       "[94 rows x 13 columns]"
      ]
     },
     "execution_count": 7,
     "metadata": {},
     "output_type": "execute_result"
    }
   ],
   "source": [
    "overhang = \"GCTATCGTTCGTTCGAGGCC\"\n",
    "df_1000_3[\"Sequence with Overhang\"] = overhang + df_1000_3[\"Sequence\"]\n",
    "df_1000_3"
   ]
  },
  {
   "cell_type": "code",
   "execution_count": 8,
   "id": "8bbee79c",
   "metadata": {},
   "outputs": [],
   "source": [
    "#load data CTRL_L PaintSHOP\n",
    "file2 = \"/FISH/CTRL_L/CTRL_L_PaintSHOP_default.txt\"\n",
    "colnames2 = [\"Chromosome\", \"Start\", \"End\", \"Sequence\", \"Tm\", \"On Target\", \"Off Target\", \"Repeat Seq\", \n",
    "             \"Prob\",\"Max Kmer\", \"Probe Strand\", \"Target\"]\n",
    "df_2 = pd.read_table(file2, names = colnames2, sep='\\t')"
   ]
  },
  {
   "cell_type": "code",
   "execution_count": 9,
   "id": "48e5303d",
   "metadata": {},
   "outputs": [
    {
     "data": {
      "text/plain": [
       "27.834433113377326"
      ]
     },
     "execution_count": 9,
     "metadata": {},
     "output_type": "execute_result"
    }
   ],
   "source": [
    "def coverage(dt,start,end):\n",
    "    array_T=[]\n",
    "    \n",
    "    a_start = dt['Start']\n",
    "    a_end = dt['End']\n",
    "    a = list(zip(a_start,a_end))\n",
    "    \n",
    "    for pos in range(start,end+1,1):\n",
    "        for i in a:\n",
    "            if (pos >= i[0] and pos <= i[1]):\n",
    "                array_T.append(pos)\n",
    "                break\n",
    "    \n",
    "    coverage = len(array_T)/(end-start+1)*100\n",
    "    return coverage\n",
    "\n",
    "coverage(df_2,168999712,169004712)"
   ]
  },
  {
   "cell_type": "code",
   "execution_count": 10,
   "id": "d51b6070",
   "metadata": {},
   "outputs": [
    {
     "data": {
      "text/plain": [
       "Text(0.5, 1.0, 'CTRL_L')"
      ]
     },
     "execution_count": 10,
     "metadata": {},
     "output_type": "execute_result"
    },
    {
     "data": {
      "image/png": "[encoded data removed]",
      "text/plain": [
       "<Figure size 2000x400 with 1 Axes>"
      ]
     },
     "metadata": {},
     "output_type": "display_data"
    }
   ],
   "source": [
    "#plot for Altius unfiltered\n",
    "y_pos = 1\n",
    "fig, ax = plt.subplots(figsize=(20,4))\n",
    "for start, end in zip(phase2.Start, phase2.End):\n",
    "    ax.plot([start, end], [y_pos, y_pos])\n",
    "    \n",
    "#plot for Altius filtered 1000 3\n",
    "y_pos = 2\n",
    "for start, end in zip(df_1000_3.Start, df_1000_3.End):\n",
    "    ax.plot([start, end], [y_pos, y_pos])\n",
    "    \n",
    "#plot for PaintSHOP\n",
    "y_pos = 3\n",
    "for start, end in zip(df_2.Start, df_2.End):\n",
    "    ax.plot([start, end], [y_pos, y_pos])\n",
    "    \n",
    "\n",
    "# bigger margin in y\n",
    "ax.margins(y=0.3)\n",
    "\n",
    "ax.set_yticks([1,2,3])\n",
    "plt.rc('ytick', labelsize=15)\n",
    "ax.set_yticklabels(['Altius unfiltered, coverage=86.90%', 'Altius filtered 1000, 3, coverage=77.06%', 'PaintShop, coverage=27.83%'])\n",
    "ax.set_title('CTRL_L')"
   ]
  },
  {
   "cell_type": "code",
   "execution_count": 11,
   "id": "f3c90f99",
   "metadata": {},
   "outputs": [
    {
     "data": {
      "text/plain": [
       "(106, 94)"
      ]
     },
     "execution_count": 11,
     "metadata": {},
     "output_type": "execute_result"
    }
   ],
   "source": [
    "len(df), len(df_1000_3)"
   ]
  },
  {
   "cell_type": "code",
   "execution_count": 12,
   "id": "aaa7aac9",
   "metadata": {},
   "outputs": [],
   "source": [
    "def overlap_percentage(a,b):\n",
    "    array_A=[]\n",
    "    array_B=[]\n",
    "\n",
    "    s=min(a[0][0],b[0][0])\n",
    "    l=max(a[len(a)-1][1],b[len(b)-1][1])\n",
    "\n",
    "    for pos in range(s,l+1,1):\n",
    "        for i in a:\n",
    "            if (pos >= i[0] and pos <= i[1]):\n",
    "                array_A.append(pos)\n",
    "                break\n",
    "        for j in b:\n",
    "            if (pos >= j[0] and pos <= j[1]):\n",
    "                array_B.append(pos)\n",
    "                break\n",
    "    \n",
    "    intersect_len = len(list(set(array_A) & set (array_B)))\n",
    "    union_len = len(list(set(array_A) | set (array_B)))\n",
    "    return intersect_len/union_len*100  "
   ]
  },
  {
   "cell_type": "code",
   "execution_count": 13,
   "id": "bf69cb8d",
   "metadata": {},
   "outputs": [],
   "source": [
    "a_start = df_1000_3['Start']\n",
    "a_end = df_1000_3['End']\n",
    "\n",
    "b_start = df_2['Start']\n",
    "b_end = df_2['End']\n",
    "\n",
    "a = list(zip(a_start,a_end))\n",
    "b = list(zip(b_start,b_end))"
   ]
  },
  {
   "cell_type": "code",
   "execution_count": 14,
   "id": "cbe6a4cb",
   "metadata": {},
   "outputs": [
    {
     "data": {
      "text/plain": [
       "33.045904133908195"
      ]
     },
     "execution_count": 14,
     "metadata": {},
     "output_type": "execute_result"
    }
   ],
   "source": [
    "#calculate percentage overlap between Altius filtered and PaintSHOP\n",
    "overlap_percentage(a,b)"
   ]
  }
 ],
 "metadata": {
  "kernelspec": {
   "display_name": "Python 3 (ipykernel)",
   "language": "python",
   "name": "python3"
  },
  "language_info": {
   "codemirror_mode": {
    "name": "ipython",
    "version": 3
   },
   "file_extension": ".py",
   "mimetype": "text/x-python",
   "name": "python",
   "nbconvert_exporter": "python",
   "pygments_lexer": "ipython3",
   "version": "3.9.12"
  }
 },
 "nbformat": 4,
 "nbformat_minor": 5
}
